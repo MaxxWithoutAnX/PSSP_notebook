{
 "cells": [
  {
   "cell_type": "markdown",
   "metadata": {},
   "source": [
    "# Week 11 - Exercise"
   ]
  },
  {
   "cell_type": "markdown",
   "metadata": {},
   "source": [
    "## Problem Statement\n",
    "\n",
    "Water (density 1000 kg m$^{-3}$, viscosity 1 mN s m$^{-2}$) is used to fluidise a bed of packed spheres characterised by a diameter of 0.5 mm and a density of 1500 kg m$^{-3}$.\n",
    "\n",
    "### Tasks\n",
    "- Demonstrate that, in laminar regime, the minimum fluidization velocity is always smaller than the terminal falling velocity. \n",
    "- Compute the minimum fluidisation velocity and the terminal falling velocity of the bed particles.\n",
    "- Sketch a plot of the $\\Delta{P}$ as a function of the fluid velocity, clearly indicating the minimum fluidisation velocity.\n",
    "- How would your result change if particles were twice as large?\n",
    "- What does the terminal falling velocity represent in the context of fluidisation? "
   ]
  },
  {
   "cell_type": "markdown",
   "metadata": {},
   "source": [
    "### Solution\n"
   ]
  },
  {
   "cell_type": "markdown",
   "metadata": {},
   "source": [
    "#### Task 1\n",
    "\n",
    "In the laminar regime, for spherical particles of diameter $d$ the minimum fluidization velocity is given by: \n",
    "\n",
    "$$\n",
    "v_{mf}=\\frac{1}{180}\\frac{e^3}{(1-e)}\\frac{d^2(\\rho_s-\\rho_f)g}{\\mu}\n",
    "$$\n",
    "\n",
    "where, $e$ is the void fraction, $d$ the diameter of the particles, $\\rho_s$ is the density of the particles,  $\\rho_f$ is the density of the fluidising fluid, $g$ is the gravity acceleration constant, and $\\mu$ the viscosity of the fluid. \n",
    "\n",
    "The terminal falling velocity, conversely is determined by the steady state force balance on a single particle: \n",
    "\n",
    "$$\n",
    "v_t^2=Cd^{-1}\\frac{(\\rho_s-\\rho_f)}{\\rho_f}\\frac{4d}{3}g\n",
    "$$\n",
    "\n",
    "where $Cd$ is the drag coefficient. \n",
    "\n",
    "If we introduce the definition of the drag coefficient in laminar regime given by the Stokes relation: \n",
    "\n",
    "$$\n",
    "Cd=\\frac{24}{Re_p}=\\frac{24\\mu}{\\rho_fdv}\n",
    "$$\n",
    "\n",
    "where $Re_p$ is the Reynolds number and $v$ the velocity of the fluid, we get: \n",
    "\n",
    "$$\n",
    "v_t=\\frac{\\rho_fd}{24\\mu}\\frac{(\\rho_s-\\rho_f)}{\\rho_f}\\frac{4d}{3}g=\\frac{1}{18}\\frac{d^2(\\rho_s-\\rho_f)g}{\\mu}\n",
    "$$\n",
    "\n",
    "Now, if we take the ratio between $v_{mf}$ and $v_t$ we get: \n",
    "\n",
    "\n",
    "$$\n",
    "\\frac{v_{mf}}{v_t}=\\frac{\\frac{1}{180}\\frac{e^3}{(1-e)}\\frac{d^2(\\rho_s-\\rho_f)g}{\\mu}}{\\frac{1}{18}\\frac{d^2(\\rho_s-\\rho_f)g}{\\mu}}=\\frac{1}{10}\\frac{e^3}{(1-e)}\n",
    "$$\n",
    "\n",
    "Since the void fraction $0<e<1$ by definition, with a lower theoretical limit at $\\approx{0.36}$ (corresponding to a close-packing of equal spheres),  the term $\\frac{e^3}{(1-e)}$ is dof order $e^2$ and smaller than 1. \n",
    "\n",
    "Hence \n",
    "$$\n",
    "\\frac{v_{mf}}{v_t}<1\n",
    "$$\n",
    "\n",
    "and the minimum fluidization velocity is always smaller than the terminal Falling velocity, irrespective of $d$, $\\rho_p$, $\\rho_f$ or $\\mu$.\n",
    "\n",
    "\n",
    "#### Task 2 / 4\n",
    "\n",
    "In order to solve task 2 we need to estimate the void fraction. A typical approach whne the actual void fraction is not provided is to compute it as the ratio between the volume of a sphere of diameter $d$ and a cube with the side of lenghth $d$. \n",
    "\n",
    "$$\n",
    "e=1-\\frac{\\pi}{6}\n",
    "$$\n",
    "\n"
   ]
  },
  {
   "cell_type": "code",
   "execution_count": 51,
   "metadata": {},
   "outputs": [
    {
     "name": "stdout",
     "output_type": "stream",
     "text": [
      "\n",
      "Diameter:  0.0005  [mm]\n",
      "\n",
      "Terminal Falling velocity:  0.06813  [m/s]\n",
      "Minimum Fluidisation velocity:  0.001407  [m/s]\n",
      "\n",
      "Diameter:  0.001  [mm]\n",
      "\n",
      "Terminal Falling velocity:  0.2725  [m/s]\n",
      "Minimum Fluidisation velocity:  0.005627  [m/s]\n",
      "\n"
     ]
    }
   ],
   "source": [
    "import numpy as np\n",
    "import matplotlib.pyplot as plt \n",
    "from matplotlib.pyplot import cm\n",
    "\n",
    "rho_f=1000 #\n",
    "rho_s=1500 # kg m$^{-3}\n",
    "\n",
    "mu = 1E-3 # N s m$^{-2}$\n",
    "d = 0.5 * 1E-3 #m\n",
    "g=9.81 # m /s^2\n",
    "e=1-np.pi/6\n",
    "common=d**2*(rho_s-rho_f)*g/mu #m/s\n",
    "v_mf=1/180*(e**3/(1-e))*common\n",
    "v_t=1/18*common\n",
    "\n",
    "print(\"\\nDiameter: \", f\"{d:.4}\", \" [mm]\")\n",
    "print(\"\\nTerminal Falling velocity: \", f\"{v_t:.4}\", \" [m/s]\")\n",
    "print(\"Minimum Fluidisation velocity: \", f\"{v_mf:.4}\", \" [m/s]\")\n",
    "\n",
    "common=(2*d)**2*(rho_s-rho_f)*g/mu #m/s\n",
    "v_mf=1/180*(e**3/(1-e))*common\n",
    "v_t=1/18*common\n",
    "\n",
    "print(\"\\nDiameter: \", f\"{2*d:.4}\", \" [mm]\")\n",
    "print(\"\\nTerminal Falling velocity: \", f\"{v_t:.4}\", \" [m/s]\")\n",
    "print(\"Minimum Fluidisation velocity: \", f\"{v_mf:.4}\", \" [m/s]\\n\")\n"
   ]
  },
  {
   "cell_type": "markdown",
   "metadata": {},
   "source": [
    "#### Task 3 / 4\n",
    "\n",
    "Without specifying the total lenght of the packed bed it is only possible to plot the pressure gradient $\\Delta{P}/l$. "
   ]
  },
  {
   "cell_type": "code",
   "execution_count": 1,
   "metadata": {},
   "outputs": [
    {
     "ename": "NameError",
     "evalue": "name 'v_mf' is not defined",
     "output_type": "error",
     "traceback": [
      "\u001b[0;31m---------------------------------------------------------------------------\u001b[0m",
      "\u001b[0;31mNameError\u001b[0m                                 Traceback (most recent call last)",
      "\u001b[0;32m<ipython-input-1-ac37112fd100>\u001b[0m in \u001b[0;36m<module>\u001b[0;34m\u001b[0m\n\u001b[1;32m      6\u001b[0m \u001b[0mN\u001b[0m\u001b[0;34m=\u001b[0m\u001b[0;36m1000\u001b[0m\u001b[0;34m\u001b[0m\u001b[0;34m\u001b[0m\u001b[0m\n\u001b[1;32m      7\u001b[0m \u001b[0;34m\u001b[0m\u001b[0m\n\u001b[0;32m----> 8\u001b[0;31m \u001b[0mv\u001b[0m\u001b[0;34m=\u001b[0m\u001b[0mnp\u001b[0m\u001b[0;34m.\u001b[0m\u001b[0mlinspace\u001b[0m\u001b[0;34m(\u001b[0m\u001b[0;36m0\u001b[0m\u001b[0;34m,\u001b[0m\u001b[0mv_mf\u001b[0m\u001b[0;34m,\u001b[0m \u001b[0mN\u001b[0m\u001b[0;34m)\u001b[0m\u001b[0;34m\u001b[0m\u001b[0;34m\u001b[0m\u001b[0m\n\u001b[0m\u001b[1;32m      9\u001b[0m \u001b[0mcolor\u001b[0m\u001b[0;34m=\u001b[0m\u001b[0miter\u001b[0m\u001b[0;34m(\u001b[0m\u001b[0mcm\u001b[0m\u001b[0;34m.\u001b[0m\u001b[0mgist_heat\u001b[0m\u001b[0;34m(\u001b[0m\u001b[0mnp\u001b[0m\u001b[0;34m.\u001b[0m\u001b[0mlinspace\u001b[0m\u001b[0;34m(\u001b[0m\u001b[0;36m0\u001b[0m\u001b[0;34m,\u001b[0m\u001b[0;36m1\u001b[0m\u001b[0;34m,\u001b[0m\u001b[0;36m3\u001b[0m\u001b[0;34m)\u001b[0m\u001b[0;34m)\u001b[0m\u001b[0;34m)\u001b[0m\u001b[0;34m\u001b[0m\u001b[0;34m\u001b[0m\u001b[0m\n\u001b[1;32m     10\u001b[0m \u001b[0;34m\u001b[0m\u001b[0m\n",
      "\u001b[0;31mNameError\u001b[0m: name 'v_mf' is not defined"
     ]
    }
   ],
   "source": [
    "import numpy as np\n",
    "import matplotlib.pyplot as plt \n",
    "from matplotlib.pyplot import cm\n",
    "\n",
    "# Data\n",
    "N=1000\n",
    "\n",
    "v=np.linspace(0,v_mf, N)\n",
    "color=iter(cm.gist_heat(np.linspace(0,1,3)))\n",
    "\n",
    "\n",
    "#Plotting\n",
    "figure=plt.figure()\n",
    "axes = figure.add_axes([0.1,0.1,1.2,1.2])\n",
    "plt.xticks(fontsize=14)\n",
    "plt.yticks(fontsize=14)\n",
    "mDeltaP_l_mf=v_mf*180*(1-e)**2/e**3*mu/d**2 # N/m\n",
    "mDeltaP_l=v*180*(1-e)**2/e**3*mu/d**2 # N/m\n",
    "c=next(color)\n",
    "axes.plot(v,mDeltaP_l, marker=' ',c=c) \n",
    "axes.plot(v_mf,mDeltaP_l_mf,marker='o',markersize=10,c=c)\n",
    "\n",
    "\n",
    "# Double particle diameter\n",
    "c=next(color)\n",
    "mDeltaP_l_mf=v_mf*180*(1-e)**2/e**3*mu/(2*d)**2 # N/m\n",
    "mDeltaP_l=v*180*(1-e)**2/e**3*mu/(2*d)**2 # N/m\n",
    "axes.plot(v,mDeltaP_l, marker=' ',c=c) \n",
    "axes.plot(v_mf,mDeltaP_l_mf,marker='o',markersize=10,c=c)\n",
    "axes.set_xlabel('$v$ [$m s^{-1}$]', fontsize=18);\n",
    "axes.set_ylabel('$-\\Delta{P}$ ${l^{-1}}$ [N/m$^3$]',fontsize=18);\n",
    "axes.set_xlim([0,1]);\n",
    "axes.set_ylim([0,1]);\n",
    "\n"
   ]
  },
  {
   "cell_type": "markdown",
   "metadata": {},
   "source": [
    "We can treat the bed length as a parameter, to show the behaviour of the $\\Delta{P}$ as a function of velocity: "
   ]
  },
  {
   "cell_type": "code",
   "execution_count": 62,
   "metadata": {},
   "outputs": [
    {
     "data": {
      "image/png": "[encoded data removed]",
      "text/plain": [
       "<Figure size 432x288 with 1 Axes>"
      ]
     },
     "metadata": {
      "needs_background": "light"
     },
     "output_type": "display_data"
    }
   ],
   "source": [
    "import numpy as np\n",
    "import matplotlib.pyplot as plt \n",
    "from matplotlib.pyplot import cm\n",
    "\n",
    "\n",
    "# Data\n",
    "N=1000\n",
    "#Plotting\n",
    "figure=plt.figure()\n",
    "axes = figure.add_axes([0.1,0.1,1.2,1.2])\n",
    "plt.xticks(fontsize=14)\n",
    "plt.yticks(fontsize=14)\n",
    "\n",
    "# Parameter: bed length\n",
    "lengths=np.array([0.5, 1, 3, 5])\n",
    "\n",
    "color=iter(cm.gist_heat(np.linspace(0,1,np.size(lengths)+1)))\n",
    "\n",
    "for l in lengths: \n",
    "    c=next(color)\n",
    "    mDeltaP_mf=mDeltaP_l_mf*l # N/m\n",
    "    mDeltaP=mDeltaP_l*l # N/m\n",
    "    axes.plot(v,mDeltaP, marker=' ',c=c) \n",
    "    axes.plot(np.array([v_mf, 2*v_mf]),mDeltaP_mf*np.array([1,1]), marker=' ',c=c) \n",
    "    axes.plot(v_mf,mDeltaP_mf,marker='s',markersize=10,c=c)\n",
    "\n",
    "axes.set_xlabel('$v$ [$m s^{-1}$]', fontsize=18);\n",
    "axes.set_ylabel('$-\\Delta{P}$ [N/m$^2$]',fontsize=18);"
   ]
  },
  {
   "cell_type": "markdown",
   "metadata": {},
   "source": [
    "#### Task 5 \n",
    "\n",
    "The terminal falling velocity corresponds to the velocity at whixh thew drag froces counterbalance the net weight of the particles, over coming thisb velocity leads to net upward acceleration of the particles and corresponds to the instauration of the transport regime. "
   ]
  }
 ],
 "metadata": {
  "kernelspec": {
   "display_name": "Python 3",
   "language": "python",
   "name": "python3"
  },
  "language_info": {
   "codemirror_mode": {
    "name": "ipython",
    "version": 3
   },
   "file_extension": ".py",
   "mimetype": "text/x-python",
   "name": "python",
   "nbconvert_exporter": "python",
   "pygments_lexer": "ipython3",
   "version": "3.7.7"
  }
 },
 "nbformat": 4,
 "nbformat_minor": 4
}
