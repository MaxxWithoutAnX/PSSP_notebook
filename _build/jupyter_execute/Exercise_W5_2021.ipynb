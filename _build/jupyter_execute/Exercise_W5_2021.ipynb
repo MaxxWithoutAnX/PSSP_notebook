{
 "cells": [
  {
   "cell_type": "markdown",
   "metadata": {},
   "source": [
    "# Week 5 - Exercise"
   ]
  },
  {
   "cell_type": "markdown",
   "metadata": {},
   "source": [
    "## Problem Statement\n",
    "\n",
    "A protein mixture has been separated through an ion-exchange chromatography process. The residence time of the column in non-adsorbing conditons is $t_0=1$ min.\n",
    "The chromatogram resulting from the separation is reported in the following: \n",
    "\n",
    "<img src=\"./chromatogram.png\" alt=\"Drawing\" style=\"width: 600px;\">\n",
    "\n",
    "### Determine:\n",
    "- How many components in the mixture can you identify from the chromatogram?\n",
    "- What is the selectivity of this column for each couple of components? \n",
    "- Assuming a linear adsorption isotherm holds in all cases, what conclusions can you draw about adsorption thermodynamics of each component in the column?\n",
    "- What is the number of theoretical plates associated to the elution of each component you have identified? If the coulmn is 10 cm long, what is the height equivalent of a theoretical plate for each component of the mixture? \n",
    "- Compute the resolution relative to each couple of components in the chromatogram. Does it depend only on the adsorption thermodynamics?\n",
    "- Comment on the separation performances of the column. Does it allow for a sharp resolution of all components?\n"
   ]
  },
  {
   "cell_type": "markdown",
   "metadata": {},
   "source": [
    "### Solution\n",
    "\n",
    "1. The chromatogram clearly indicates three components, let us indicate them with A, B, and C. \n",
    "The retention times for these components are: \n",
    "$t_{r,A}=7$ //\n",
    "$t_{r,B}=10$\n",
    "$t_{r,C}=15$\n",
    "\n",
    "2. The selectivity can be computed for every pair of components as: \n",
    "$$\n",
    "S_{i,j}=\\frac{t_{r,i}-t_0}{t_{r,j}-t_0}\n",
    "$$\n",
    "\n",
    "3. Since $S_{i,j}=H_i/H_j$ we can determine the relative affinity of components A, B and C for the startionary phase. Component C shows the highest affinity for the stationary phase, followed by B and then C. \n",
    "\n",
    "4. The number of theoretical plates associated to the elution of components A, B, and C can be obtained applying the relationship $N=$\n",
    "\n",
    "5. \n",
    "\n",
    "\n",
    "\n"
   ]
  },
  {
   "cell_type": "code",
   "execution_count": null,
   "metadata": {},
   "outputs": [],
   "source": []
  }
 ],
 "metadata": {
  "kernelspec": {
   "display_name": "Python 3",
   "language": "python",
   "name": "python3"
  },
  "language_info": {
   "codemirror_mode": {
    "name": "ipython",
    "version": 3
   },
   "file_extension": ".py",
   "mimetype": "text/x-python",
   "name": "python",
   "nbconvert_exporter": "python",
   "pygments_lexer": "ipython3",
   "version": "3.7.7"
  }
 },
 "nbformat": 4,
 "nbformat_minor": 4
}