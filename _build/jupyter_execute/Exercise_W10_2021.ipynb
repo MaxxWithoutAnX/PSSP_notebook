{
 "cells": [
  {
   "cell_type": "markdown",
   "metadata": {},
   "source": [
    "# Week 10 - Exercise"
   ]
  },
  {
   "cell_type": "markdown",
   "metadata": {},
   "source": [
    "### Problem Statement \n",
    "\n",
    "Consider a drying process evolving through two stages of _i_ constant drying rate, and _ii_ falling rate (first order kinetics). \n",
    "\n",
    "During stage _i_ the drying rate _per unit area_ is constant, and indicated with $R_c=m\\times{f_c}=const$. \n",
    "\n",
    "Where: \n",
    "- $m$ is a drying rate constant \n",
    "- $f_c=w_c-w_e$\n",
    "- $w_c$ is the critical moisture content\n",
    "- $w_e$ is the equilibrium moisture content\n",
    "- $w_0$ is the initial moisture content\n",
    "\n",
    "During stage _ii_ the rate of drying is proportional to the free moisture content ($f=w-w_e$). The falling rate regime stops at the rquilibrium moisture content $w_e$. \n",
    "\n",
    "### Tasks\n",
    "\n",
    "1. Derive an expression for the time necessary to reduce the moisture content from $w_0$ to $w_c$.\n",
    "2. Derive an expression for the time necessary to reduce the moisture content from $w_c$ to $w_e$ in the (linear) falling regime.\n",
    "3. Derive an expression for the time necessary to reduce the moisture content from $w_0$ to $w_e<w<w_c$.\n",
    "4. If a system, characterised by critical moisture content of 18% and an equilibrium moisture content of 2% takes 7300 seconds to reach a final moisture content of 5% from an initial moisture content of 20%, how long will it take, in the same conditions, to dry a system from 30% to 3%.\n",
    "5. For the same system produce a plot of the drying time as a function of the kinetic constant m.\n",
    "\n"
   ]
  },
  {
   "cell_type": "markdown",
   "metadata": {},
   "source": [
    "### Solution\n",
    "\n",
    "#### Task 1.\n",
    "\n",
    "In order to derive an expression for the time necessary to obtain a reduction in the moisture content from an initial value $w_0$ to the critical moisture content $w_c$ we shall start by realising that for $w\\geq{w_c}$ the rate of drying (per unit area) $R=const=R_c=m(w_c-w_e)$. \n",
    "\n",
    "Hence we can write the rate of reduction in moisture content $\\frac{dw}{dt}$ as: \n",
    "\n",
    "$$\n",
    "\\frac{dw}{dt}=-R_cA\n",
    "$$\n",
    "\n",
    "which can be solved by separating the variables  \n",
    "\n",
    "$$\n",
    "-\\frac{dw}{R_cA}=dt\n",
    "$$\n",
    "\n",
    "and integrating:\n",
    "\n",
    "$$\n",
    "-\\frac{1}{R_c}\\int_{w_0}^{w_c}dw=\\int_{0}^{t_c}dt\n",
    "$$\n",
    "\n",
    "leads to:\n",
    "\n",
    "$$\n",
    "t_c=\\frac{w_0-w_c}{R_c}=\\frac{w_0-w_c}{mA(w_c-w_e)}\n",
    "$$\n"
   ]
  },
  {
   "cell_type": "markdown",
   "metadata": {},
   "source": [
    "#### Task 2. \n",
    "In order to derive an expression for the time necessary to obtain a reduction in the moisture content from the critical value  $w_c$ to the equilibrium moisture content let us begin first by deriving an expression for a generic $w_e\\geq{w}<w_c$. \n",
    "In this case we know that the rate is linearly dependent on $w$ accordig to the expression given in the text $R=m(w-w_e)$. \n",
    "The rate of reduction in moisture content $\\frac{dw}{dt}$ now becomes: \n",
    "\n",
    "$$\n",
    "\\frac{dw}{dt}=-mA(w-w_e)\n",
    "$$\n",
    "\n",
    "which can be solved again by separating the variables  \n",
    "\n",
    "$$\n",
    "-\\frac{1}{mA}\\frac{dw}{w-w_e}=dt\n",
    "$$\n",
    "\n",
    "and integrating:\n",
    "\n",
    "$$\n",
    "-\\frac{1}{mA}\\int_{w_c}^{w^\\prime}\\frac{dw}{w-w_e}=\\int_0^{t_w}dt\n",
    "$$\n",
    "\n",
    "leads to: \n",
    "\n",
    "$$\n",
    "t_w=\\frac{1}{mA}\\ln\\left(\\frac{w_c-w_e}{w-w_e}\\right)\n",
    "$$\n",
    "\n",
    "we note that since ${w-w_e}$ is at the denominator, \n",
    "\n",
    "$$\n",
    "\\lim_{w\\rightarrow{w_e}}\\frac{1}{mA}\\ln\\left(\\frac{w_c-w_e}{w-w_e}\\right)=+\\infty\n",
    "$$\n",
    "\n",
    "so for the moisture content approaching iuts equilibrium value the time necessary diverges."
   ]
  },
  {
   "cell_type": "markdown",
   "metadata": {},
   "source": [
    "#### Task 3. \n",
    "\n",
    "The total time necessary to dry from an initial moiusture content $w_0>w_c$ to a final moisture content $w<w_c$ is equal to: \n",
    "\n",
    "$$\n",
    "t_{tot}=\\frac{1}{mA}\\left(\\frac{w_0-w_c}{w_c-w_e}+\\ln\\frac{w_c-w_e}{w-w_e}\\right)\n",
    "$$"
   ]
  },
  {
   "cell_type": "markdown",
   "metadata": {},
   "source": [
    "#### Task 4. \n",
    "\n",
    "Using the expression derived earlier one can compute first \n",
    "\n",
    "$$\n",
    "mA=\\frac{1}{t_{tot,1}}\\left(\\frac{w_{0,1}-w_c}{w_c-w_e}+\\ln\\frac{w_c-w_e}{w_1-w_e}\\right)\n",
    "$$\n",
    "\n",
    "and then once $mA$ is known,\n",
    "\n",
    "$$\n",
    "t_{tot,2}=\\frac{1}{mA}\\left(\\frac{w_{0,2}-w_c}{w_c-w_e}+\\ln\\frac{w_c-w_e}{w_2-w_e}\\right)\n",
    "$$"
   ]
  },
  {
   "cell_type": "code",
   "execution_count": 1,
   "metadata": {},
   "outputs": [
    {
     "name": "stdout",
     "output_type": "stream",
     "text": [
      "\n",
      "The drying time is 1.247e+04 [s]\n"
     ]
    }
   ],
   "source": [
    "import numpy as np\n",
    "\n",
    "w_e=0.02\n",
    "w_c=0.18\n",
    "\n",
    "w0_1=0.2\n",
    "w_1=0.05\n",
    "t_1=7300\n",
    "\n",
    "\n",
    "mA=(1/t_1)*((w0_1-w_c)+np.log((w_c-w_e)/(w_1-w_e)))\n",
    "            \n",
    "w0_2 = 0.3\n",
    "w_2 = 0.03\n",
    "            \n",
    "t_2=(1/mA)*((w0_2-w_c)+np.log((w_c-w_e)/(w_2-w_e)))\n",
    "            \n",
    "print(\"\\nThe drying time is\", f\"{t_2:.4}\", \"[s]\") "
   ]
  },
  {
   "cell_type": "markdown",
   "metadata": {},
   "source": [
    "#### Task 5. \n",
    "\n",
    "One cannot plot the dependence of the time on m alone, but the term mA can be used instead. "
   ]
  },
  {
   "cell_type": "code",
   "execution_count": 16,
   "metadata": {},
   "outputs": [
    {
     "data": {
      "image/png": "[encoded data removed]",
      "text/plain": [
       "<Figure size 432x288 with 1 Axes>"
      ]
     },
     "metadata": {
      "filenames": {
       "image/png": "/Users/matteo/Projects/PSSP_notebook/_build/jupyter_execute/Exercise_W10_2021_8_0.png"
      },
      "needs_background": "light"
     },
     "output_type": "display_data"
    }
   ],
   "source": [
    "import numpy as np\n",
    "import matplotlib.pyplot as plt \n",
    "from matplotlib.pyplot import cm\n",
    "\n",
    "# Data\n",
    "N=100\n",
    "mA_v = np.linspace(mA/10,10*mA, N)\n",
    "t_v=(1/mA_v)*((w0_2-w_c)+np.log((w_c-w_e)/(w_2-w_e)))\n",
    "\n",
    "#Plotting\n",
    "figure=plt.figure()\n",
    "axes = figure.add_axes([0.1,0.1,1.2,1.2])\n",
    "plt.xticks(fontsize=14)\n",
    "plt.yticks(fontsize=14)\n",
    "axes.plot(mA_v,t_v, marker=' ') \n",
    "axes.plot(mA,t_2,marker='o',markersize=10)\n",
    "axes.set_xlabel('$mA$ [$s^{-1}$]', fontsize=18);\n",
    "axes.set_ylabel('$t$ [s]',fontsize=18);\n"
   ]
  },
  {
   "cell_type": "markdown",
   "metadata": {},
   "source": [
    "## Additional info\n",
    "\n",
    "1. Asymptotic behaviour of the time for the moisture content reaching the equilibrium moisture content: "
   ]
  },
  {
   "cell_type": "code",
   "execution_count": 48,
   "metadata": {},
   "outputs": [
    {
     "data": {
      "image/png": "[encoded data removed]",
      "text/plain": [
       "<Figure size 432x288 with 1 Axes>"
      ]
     },
     "metadata": {
      "filenames": {
       "image/png": "/Users/matteo/Projects/PSSP_notebook/_build/jupyter_execute/Exercise_W10_2021_10_0.png"
      },
      "needs_background": "light"
     },
     "output_type": "display_data"
    }
   ],
   "source": [
    "import numpy as np\n",
    "import matplotlib.pyplot as plt \n",
    "from matplotlib.pyplot import cm\n",
    "\n",
    "# Data\n",
    "\n",
    "N=10000\n",
    "ww = np.linspace(w_e*1.01,w_c*0.99, N)\n",
    "\n",
    "\n",
    "#Plotting\n",
    "figure=plt.figure()\n",
    "axes = figure.add_axes([0.1,0.1,1.2,1.2])\n",
    "plt.xticks(fontsize=14)\n",
    "plt.yticks(fontsize=14)\n",
    "axes.plot(ww,t_v, marker=' ')\n",
    "axes.plot(np.array([w_e, w_e]),np.array([0, 44000]))\n",
    "t_v=(1/mA)*((w0_2-w_c)+np.log((w_c-w_e)/(ww-w_e)))\n",
    "axes.set_xlabel('$w$ [-]', fontsize=18);\n",
    "axes.set_ylabel('$t$ [s]',fontsize=18);"
   ]
  },
  {
   "cell_type": "code",
   "execution_count": null,
   "metadata": {},
   "outputs": [],
   "source": []
  }
 ],
 "metadata": {
  "kernelspec": {
   "display_name": "Python 3",
   "language": "python",
   "name": "python3"
  },
  "language_info": {
   "codemirror_mode": {
    "name": "ipython",
    "version": 3
   },
   "file_extension": ".py",
   "mimetype": "text/x-python",
   "name": "python",
   "nbconvert_exporter": "python",
   "pygments_lexer": "ipython3",
   "version": "3.7.7"
  }
 },
 "nbformat": 4,
 "nbformat_minor": 4
}