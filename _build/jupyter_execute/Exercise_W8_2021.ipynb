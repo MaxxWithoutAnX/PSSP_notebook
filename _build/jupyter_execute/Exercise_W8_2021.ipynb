{
 "cells": [
  {
   "cell_type": "markdown",
   "metadata": {},
   "source": [
    "# Week 8 - Exercise"
   ]
  },
  {
   "cell_type": "markdown",
   "metadata": {},
   "source": [
    "## Problem Statement 1\n",
    "\n",
    "- In a system with two monotropic polymorphs, is it true that the polymorph with the lowest solubility is thermodynamically more stable?\n",
    "\n",
    "- Can you demonstrate it using the definition of solubility? "
   ]
  },
  {
   "cell_type": "markdown",
   "metadata": {},
   "source": [
    "## Solution\n",
    "\n",
    "#### Contributed by Nikita Gusev, on 9/March/2021\n",
    "\n",
    "- Crystal polymorphs are defined as substances that are chemically identical but exist in more than one crystal form. A polymorphic transition is a reversible transition of a solid crystalline phase at a certain temperature and pressure (the inversion point) to another phase of the same chemical composition with a different crystal structure. \n",
    "For a monotropic system, plots of the solubility of the various polymorphs against temperature do not cross, meaning that different polymorphs always have different solubilities, and different stability.\n",
    "Solution of a crystal is favored if the energy of dissolution is greater than the lattice energy, i.e., by dissolving, a compound forms a more thermodynamically stable state. In that sense, if the solubility of a polymorph is greater, means that this polymorph is less stable in its\n",
    "crystalline state, and vice versa, the polymorph with the lowest solubility is thermodynamically more stable in its crystalline state.\n",
    "\n",
    "- The chemical potential of a solid crystalline phase is given by:\n",
    "$$\n",
    "\\mu_{i}^s\\simeq\\mu_0+RT\\ln{\\x_i^*}\n",
    "$$\n",
    "where $$\\x_i^*$$ is the solubility.\n",
    "From the equation above it can be seen than the lower is the solubility, the lower is the chemical potential and we know that the phase with the lowest chemical potential at any temperature is the most stable phase at that temperature. This again shows that a less soluble polymorph is more stable.\n"
   ]
  },
  {
   "cell_type": "markdown",
   "metadata": {},
   "source": [
    "## Problem Statement 2\n",
    "An aqueous feed of 10000 kg h$^{-1}$, saturated with $BaCl_2$ at 100$^o$C, enters a crystallizer that can be simulated with the MSMPR model. The slurry leaves the crystallizer at 20$^o$C with crystals of the dihydrate. The crystallizer has a volume of 2.0 $m^3$. From laboratory experiments, the crystal growth rate is essentially constant at $4.0\\times{10^{-7}}$ m/s. The density of the dihydrate crystals is 3.097 g cm$^{-3}$. The density of an aqueous, saturated solution of barium chloride at 20$^o$C is 1.29 g cm$^{-3}$. The solubility of $BaCl_2$ is 58.3 g/100 g water at 100$^o$ C and 35.7 g/100 g water at 20$^o$ C. The molar mass of $BaCl_2$ is 208.27 g/mol, the the dihydrate, $BaCl_22H_2O$ has a molar mass of 244.31 g/mol. The density of the crystals is 3097 $kg/m^3$, the density of the solution in the crystallizer is 1279 $kg/m^3$ \n",
    "\n",
    "- Determine the mass flow rate of crystals in the product stream.\n",
    "- Compute the predominant crystal size $L_D$ in mm."
   ]
  },
  {
   "cell_type": "markdown",
   "metadata": {},
   "source": [
    "## Solution Trace\n",
    "\n",
    "#### Contributed by Nikita Gusev and Guilherme Pizarro Werner, on 9/March/2021\n",
    "\n",
    "A total material balance around the crystallizer (assuming steady state):\n",
    "$$\n",
    "F=V+L+S\n",
    "$$\n",
    "\n",
    "- where: $F$ = total feed rate (kg/h); $V$ = evaporation rate; $L$ = kg/h of liquid; and $S$ = kg/h of crystals.\n",
    "\n",
    "Assuming evaporation is negligible and rearranging for $L$:\n",
    "$$L=F-S$$ \n",
    "\n",
    "Material balance for $BaCl_2$:\n",
    "$$\n",
    "x_F{F} = x_LL + x_SS\n",
    "$$\n",
    "\n",
    "- where $x_F$, $x_L$, $x_S$ are the mass fractions of $BaCl_2$ in feed, liquid and crystals, respectively.\n",
    "\n",
    "F is known, and mass fractions can be found from the data, so we have two equations and two unknowns (L and S), and so there is 0 degrees of freedom and the problem can be solved.\n",
    "\n",
    "Solving simultaneously using the expressions above:\n",
    "$$\n",
    "x_FF= x_L(F - S) + x_SS\n",
    "$$\n",
    "\n",
    "Rearranging:\n",
    "$$\n",
    "S = F \\frac{x_F-x_L}{x_S-x_L}\n",
    "$$\n",
    "\n",
    "\n",
    "Now finding the mass fractions:\n",
    "𝑥% =\n",
    "58.3 [𝑔 𝐵𝑎𝐶𝑙(]\n",
    "(58.3 + 100) [𝑔 𝑠𝑜𝑙𝑢𝑡𝑖𝑜𝑛] = 0.3683 G\n",
    "𝑔\n",
    "𝑔 𝑠𝑜𝑙𝑢𝑡𝑖𝑜𝑛\n",
    "H\n",
    "𝑥& =\n",
    "35.7 [𝑔]\n",
    "(35.7 + 100) [𝑔 𝑠𝑜𝑙𝑢𝑡𝑖𝑜𝑛] = 0.2631 G\n",
    "𝑔\n",
    "𝑔 𝑠𝑜𝑙𝑢𝑡𝑖𝑜𝑛\n",
    "H\n",
    "𝑥' =\n",
    "208.27 G 𝑔 𝐵𝑎𝐶𝑙(\n",
    "𝑚𝑜𝑙 𝐵𝑎𝐶𝑙( ∙ 2𝐻(0H\n",
    "244.31 G 𝑔 𝐵𝑎𝐶𝑙( ∙ 2𝐻(0\n",
    "𝑚𝑜𝑙 𝐵𝑎𝐶𝑙( ∙ 2𝐻(0H\n",
    "= 0.8525 G\n",
    "𝑔 𝐵𝑎𝐶𝑙(\n",
    "𝑔 𝐵𝑎𝐶𝑙( ∙ 2𝐻(0\n",
    "H\n",
    "Then we can calculate the mass flowrates:\n",
    "𝑆 = 𝐹\n",
    "(𝑥% − 𝑥&)\n",
    "(𝑥' − 𝑥&) = 10000 G\n",
    "𝑘𝑔\n",
    "ℎ\n",
    "H ∗\n",
    "(0.3683 − 0.2631)\n",
    "(0.8525 − 0.2631) = 1785\n",
    "𝑘𝑔\n",
    "ℎ\n",
    "𝐿 = 10000 G\n",
    "𝑘𝑔\n",
    "ℎ\n",
    "H − 1785 G\n",
    "𝑘𝑔\n",
    "ℎ\n",
    "H = 8215\n",
    "𝑘𝑔\n",
    "ℎ\n",
    "\n",
    "\n"
   ]
  }
 ],
 "metadata": {
  "kernelspec": {
   "display_name": "Python 3",
   "language": "python",
   "name": "python3"
  },
  "language_info": {
   "codemirror_mode": {
    "name": "ipython",
    "version": 3
   },
   "file_extension": ".py",
   "mimetype": "text/x-python",
   "name": "python",
   "nbconvert_exporter": "python",
   "pygments_lexer": "ipython3",
   "version": "3.8.5"
  }
 },
 "nbformat": 4,
 "nbformat_minor": 4
}