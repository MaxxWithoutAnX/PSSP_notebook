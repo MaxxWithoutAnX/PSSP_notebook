{
 "cells": [
  {
   "cell_type": "markdown",
   "metadata": {},
   "source": [
    "# Week 11 - Exercise"
   ]
  },
  {
   "cell_type": "markdown",
   "metadata": {},
   "source": [
    "## Problem Statement\n",
    "\n",
    "Water (density 1000 kg m-3, viscosity 1 mN s m-2) is used to fluidise a bed of packed spheres characterised by a diameter of 0.5 mm and a density of 1500 kg m-3.\n",
    "\n",
    "### Tasks\n",
    "- Demonstrate that, in laminar regime, the minimum fluidization velocity is alway smaller than the terminal falling velocity. \n",
    "- Compute the minimum fluidisation velocity and the terminal falling velocity of the bed particles.\n",
    "- Sketch a plot of the $\\Delta{P}$ as a function of the fluid velocity, clearly indicating the minimum fluidisation velocity.\n",
    "- How would your result change if particles were twice as large?\n",
    "- What does the terminal falling velocity represent in the context of fluidisation? "
   ]
  }
 ],
 "metadata": {
  "kernelspec": {
   "display_name": "Python 3",
   "language": "python",
   "name": "python3"
  },
  "language_info": {
   "codemirror_mode": {
    "name": "ipython",
    "version": 3
   },
   "file_extension": ".py",
   "mimetype": "text/x-python",
   "name": "python",
   "nbconvert_exporter": "python",
   "pygments_lexer": "ipython3",
   "version": "3.8.5"
  }
 },
 "nbformat": 4,
 "nbformat_minor": 4
}