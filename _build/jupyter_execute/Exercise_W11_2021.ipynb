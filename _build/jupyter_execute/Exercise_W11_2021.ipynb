{
 "cells": [
  {
   "cell_type": "markdown",
   "metadata": {},
   "source": [
    "# Week 11 - Exercise"
   ]
  },
  {
   "cell_type": "markdown",
   "metadata": {},
   "source": [
    "## Problem Statement\n",
    "\n",
    "Water (density 1000 kg m$^{-3}$, viscosity 1 mN s m$^{-2}$) is used to fluidise a bed of packed spheres characterised by a diameter of 0.5 mm and a density of 1500 kg m$^{-3}$.\n",
    "\n",
    "### Tasks\n",
    "- Demonstrate that, in laminar regime, the minimum fluidization velocity is alway smaller than the terminal falling velocity. \n",
    "- Compute the minimum fluidisation velocity and the terminal falling velocity of the bed particles.\n",
    "- Sketch a plot of the $\\Delta{P}$ as a function of the fluid velocity, clearly indicating the minimum fluidisation velocity.\n",
    "- How would your result change if particles were twice as large?\n",
    "- What does the terminal falling velocity represent in the context of fluidisation? "
   ]
  },
  {
   "cell_type": "markdown",
   "metadata": {},
   "source": [
    "### Solution\n"
   ]
  },
  {
   "cell_type": "markdown",
   "metadata": {},
   "source": [
    "In the laminar regime, for spherical particles of diameter $d$ the minimum fluidization velocity is given by: \n",
    "\n",
    "$$\n",
    "v_{mf}=\\frac{1}{180}\\frac{e^3}{(1-e)}\\frac{d^2(\\rho_s-\\rho_f)g}{\\mu}\n",
    "$$\n",
    "\n",
    "where, $e$ is the void fraction, $d$ the diameter of the particles, $\\rho_s$ is the density of the particles,  $\\rho_f$ is the density of the fluidising fluid, $g$ is the gravity acceleration constant, and $\\mu$ the viscosity of the fluid. \n",
    "\n",
    "The terminal falling velocity, conversely is determined by the steady state force balance on a single particle: \n",
    "\n",
    "$$\n",
    "v_t^2=Cd^{-1}\\frac{(\\rho_s-\\rho_f)}{\\rho_f}\\frac{4d}{3}g\n",
    "$$\n",
    "\n",
    "where $Cd$ is the drag coefficient. \n",
    "\n",
    "If we introduce the definition of the drag coefficient in laminar regime given by the Stokes relation: \n",
    "\n",
    "$$\n",
    "Cd=\\frac{24}{Re_p}=\\frac{24\\mu}{\\rho_fdv}\n",
    "$$\n",
    "\n",
    "where $Re_p$ is the Reynolds number and $v$ the velocity of the fluid, we get: \n",
    "\n",
    "$$\n",
    "v_t=\\frac{\\rho_fdv}{24\\mu}\\frac{(\\rho_s-\\rho_f)}{\\rho_f}\\frac{4d}{3}g=\\frac{1}{18}\\frac{d^2(\\rho_s-\\rho_f)g}{\\mu}\n",
    "$$\n",
    "\n",
    "Now, if we take the ratio between $v_{mf}$ and $v_t$ we get: \n",
    "\n",
    "\n",
    "$$\n",
    "\\frac{v_{mf}}{v_t}=\\frac{\\frac{1}{180}\\frac{e^3}{(1-e)}\\frac{d^2(\\rho_s-\\rho_f)g}{\\mu}}{\\frac{1}{18}\\frac{d^2(\\rho_s-\\rho_f)g}{\\mu}}=\\frac{1}{10}\\frac{e^3}{(1-e)}\n",
    "$$\n",
    "\n",
    "Since the void fraction $0<e<1$ by definition, with a lower theoretical limit at $\\approx{0.36}$ (corresponding to a close-packing of equal spheres),  the term $\\frac{e^3}{(1-e)}$ is dof order $e^2$ and smaller than 1. \n",
    "\n",
    "Hence \n",
    "$$\n",
    "\\frac{v_{mf}}{v_t}<1\n",
    "$$\n",
    "\n",
    "and the minimum fluidization velocity is always smaller than the terminal Falling velocity, irrespective of $d$, $\\rho_p$, $\\rho_f$ or $\\mu$.\n",
    "\n"
   ]
  },
  {
   "cell_type": "code",
   "execution_count": 1,
   "metadata": {},
   "outputs": [],
   "source": [
    "import numpy as np\n",
    "import matplotlib.pyplot as plt \n",
    "from matplotlib.pyplot import cm\n",
    "\n",
    "dens_fluid=1000 #\n",
    "dens_particles=1500\n",
    "\n"
   ]
  },
  {
   "cell_type": "code",
   "execution_count": null,
   "metadata": {},
   "outputs": [],
   "source": []
  }
 ],
 "metadata": {
  "kernelspec": {
   "display_name": "Python 3",
   "language": "python",
   "name": "python3"
  },
  "language_info": {
   "codemirror_mode": {
    "name": "ipython",
    "version": 3
   },
   "file_extension": ".py",
   "mimetype": "text/x-python",
   "name": "python",
   "nbconvert_exporter": "python",
   "pygments_lexer": "ipython3",
   "version": "3.7.7"
  }
 },
 "nbformat": 4,
 "nbformat_minor": 4
}