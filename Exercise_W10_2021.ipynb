{
 "cells": [
  {
   "cell_type": "markdown",
   "metadata": {},
   "source": [
    "# Week 10 - Exercise"
   ]
  },
  {
   "cell_type": "markdown",
   "metadata": {},
   "source": [
    "### Problem Statement \n",
    "\n",
    "Consider a drying process evolving through two stages of _i_ constant drying rate, and _ii_ falling rate (first order kinetics). \n",
    "\n",
    "During stage _i_ the drying rate _per unit area_ is constant, and indicated with $R_c=m\\times{f_c}=const$. \n",
    "\n",
    "Where: \n",
    "- $m$ is a drying rate constant \n",
    "- $f_c=w_c-w_e$\n",
    "- $w_c$ is the critical moisture content\n",
    "- $w_e$ is the equilibrium moisture content\n",
    "- $w_0$ is the initial moisture content\n",
    "\n",
    "During stage _ii_ the rate of drying is proportional to the free moisture content ($f=w-w_e$). The falling rate regime stops at the rquilibrium moisture content $w_e$. \n",
    "\n",
    "### Tasks\n",
    "\n",
    "- Derive an expression for the time necessary to reduce the moisture content from $w_0$ to $w_c$.\n",
    "- Derive an expression for the time necessary to reduce the moisture content from $w_c$ to $w_e$ in the (linear) falling regime.\n",
    "- Derive an expression for the time necessary to reduce the moisture content from $w_0$ to $w_e<w<w_c$.\n",
    "- If a system, characterised by critical moisture content of 18% and an equilibrium moisture content of 2% takes 7300 seconds to reach a final moisture content of 5% from an initial moisture content of 20%, how long will it take, in the same conditions, to dry a system from 30% to 3%.\n",
    "- For the same system produce a plot of the drying time as a function of the kinetic constant m.\n"
   ]
  }
 ],
 "metadata": {
  "kernelspec": {
   "display_name": "Python 3",
   "language": "python",
   "name": "python3"
  },
  "language_info": {
   "codemirror_mode": {
    "name": "ipython",
    "version": 3
   },
   "file_extension": ".py",
   "mimetype": "text/x-python",
   "name": "python",
   "nbconvert_exporter": "python",
   "pygments_lexer": "ipython3",
   "version": "3.7.7"
  }
 },
 "nbformat": 4,
 "nbformat_minor": 4
}
