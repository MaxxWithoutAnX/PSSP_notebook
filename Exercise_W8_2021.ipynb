{
 "cells": [
  {
   "cell_type": "markdown",
   "metadata": {},
   "source": [
    "# Week 8 - Exercise"
   ]
  },
  {
   "cell_type": "markdown",
   "metadata": {},
   "source": [
    "## Problem Statement 1\n",
    "\n",
    "- In a system with two monotropic polymorphs, is it true that the polymorph with the lowest solubility is thermodynamically more stable? \n",
    "\n",
    "- Can you demonstrate it using the definition of solubility? "
   ]
  },
  {
   "cell_type": "markdown",
   "metadata": {},
   "source": [
    "## Problem Statement 2\n",
    "An aqueous feed of 10000 kg h$^{-1}$, saturated with $BaCl_2$ at 100$^o$C, enters a crystallizer that can be simulated with the MSMPR model. The slurry leaves the crystallizer at 20$^o$C with crystals of the dihydrate. The crystallizer has a volume of 2.0 $m^3$. From laboratory experiments, the crystal growth rate is essentially constant at $4.0\\times{10^{-7}}$ m/s. The density of the dihydrate crystals is 3.097 g cm$^{-3}$. The density of an aqueous, saturated solution of barium chloride at 20$^o$C is 1.29 g cm$^{-3}$. The solubility of $BaCl_2$ is 58.3 g/100 g water at 100$^o$ C and 35.7 g/100 g water at 20$^o$ C. The molar mass of $BaCl_2$ is 208.27 g/mol, the the dihydrate, $BaCl_22H_2O$ has a molar mass of 244.31 g/mol. The density of the crystals is 3097 $kg/m^3$, the density of the solution in the crystallizer is 1279 $kg/m^3$ \n",
    "\n",
    "- Determine the mass flow rate of crystals in the product stream.\n",
    "- Compute the predominant crystal size $L_D$ in mm."
   ]
  }
 ],
 "metadata": {
  "kernelspec": {
   "display_name": "Python 3",
   "language": "python",
   "name": "python3"
  },
  "language_info": {
   "codemirror_mode": {
    "name": "ipython",
    "version": 3
   },
   "file_extension": ".py",
   "mimetype": "text/x-python",
   "name": "python",
   "nbconvert_exporter": "python",
   "pygments_lexer": "ipython3",
   "version": "3.7.7"
  }
 },
 "nbformat": 4,
 "nbformat_minor": 4
}
